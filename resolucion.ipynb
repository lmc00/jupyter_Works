{
 "cells": [
  {
   "cell_type": "code",
   "execution_count": 12,
   "metadata": {},
   "outputs": [
    {
     "name": "stdout",
     "output_type": "stream",
     "text": [
      "Palabras más frecuentes con más de 10 apariciones.\n",
      "[(22, ['que']), (15, ['tu', 'a']), (15, ['tu', 'a']), (12, ['quiero'])]\n",
      "\n",
      "Palabras más frecuentes con más de 5 apariciones.\n",
      "[(22, ['que']), (15, ['tu', 'a']), (15, ['tu', 'a']), (12, ['quiero']), (10, ['despacito', 'sube']), (10, ['despacito', 'sube']), (9, ['y', 'de', 'favoritos']), (9, ['y', 'de', 'favoritos']), (9, ['y', 'de', 'favoritos']), (8, ['te', 'tus', 'pasito', 'poquito']), (8, ['te', 'tus', 'pasito', 'poquito']), (8, ['te', 'tus', 'pasito', 'poquito']), (8, ['te', 'tus', 'pasito', 'poquito']), (6, ['oh', 'el', 'mi']), (6, ['oh', 'el', 'mi']), (6, ['oh', 'el', 'mi'])]\n"
     ]
    }
   ],
   "source": [
    "import lyrics_processor.frequencies\n",
    "import lyrics_processor.process\n",
    "from lyrics_processor import songs\n",
    "despacito = lyrics_processor.songs.example.despacito\n",
    "words_clean = lyrics_processor.process.split_into_words(despacito)\n",
    "freqs=lyrics_processor.process.words_to_frequencies(words_clean)\n",
    "print(\"Palabras más frecuentes con más de 10 apariciones.\")\n",
    "print(lyrics_processor.frequencies.get_more_often_used_words(freqs))\n",
    "print()\n",
    "print(\"Palabras más frecuentes con más de 5 apariciones.\")\n",
    "print(lyrics_processor.frequencies.get_more_often_used_words(freqs, threshold=5))\n",
    "\n",
    "\n",
    "\n"
   ]
  },
  {
   "cell_type": "code",
   "execution_count": null,
   "metadata": {},
   "outputs": [],
   "source": []
  }
 ],
 "metadata": {
  "kernelspec": {
   "display_name": "Python 3",
   "language": "python",
   "name": "python3"
  },
  "language_info": {
   "codemirror_mode": {
    "name": "ipython",
    "version": 3
   },
   "file_extension": ".py",
   "mimetype": "text/x-python",
   "name": "python",
   "nbconvert_exporter": "python",
   "pygments_lexer": "ipython3",
   "version": "3.6.6"
  }
 },
 "nbformat": 4,
 "nbformat_minor": 2
}
